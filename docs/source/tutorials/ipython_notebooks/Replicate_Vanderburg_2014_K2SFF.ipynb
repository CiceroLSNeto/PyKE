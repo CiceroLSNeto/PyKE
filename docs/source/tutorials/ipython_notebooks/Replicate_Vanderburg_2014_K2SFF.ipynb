{
 "cells": [
  {
   "cell_type": "markdown",
   "metadata": {},
   "source": [
    "# Replicate Vanderburg & Johnson 2014 K2SFF Method"
   ]
  },
  {
   "cell_type": "markdown",
   "metadata": {},
   "source": [
    "In this notebook we will replicate the K2SFF method from [Vanderburg and Johnson 2014](http://adsabs.harvard.edu/abs/2014PASP..126..948V).  The paper introduces a method for \"Self Flat Fielding\", by tracking how the lightcurve changes with motion of the spacecraft."
   ]
  },
  {
   "cell_type": "code",
   "execution_count": 1,
   "metadata": {
    "collapsed": true
   },
   "outputs": [],
   "source": [
    "from pyke import KeplerTargetPixelFile\n",
    "%matplotlib inline\n",
    "%config InlineBackend.figure_format = 'retina'\n",
    "import numpy as np\n",
    "import matplotlib.pyplot as plt"
   ]
  },
  {
   "cell_type": "code",
   "execution_count": 2,
   "metadata": {
    "collapsed": true
   },
   "outputs": [],
   "source": [
    "#from oktopus import UniformPrior, JointPrior\n",
    "#from pyke import PRFPhotometry, SceneModel\n",
    "#from pyke.utils import KeplerQualityFlags"
   ]
  },
  {
   "cell_type": "markdown",
   "metadata": {},
   "source": [
    "## Get data"
   ]
  },
  {
   "cell_type": "code",
   "execution_count": 3,
   "metadata": {
    "collapsed": true
   },
   "outputs": [],
   "source": [
    "#! wget https://www.cfa.harvard.edu/~avanderb/k2/ep60021426alldiagnostics.csv"
   ]
  },
  {
   "cell_type": "code",
   "execution_count": 4,
   "metadata": {
    "collapsed": true
   },
   "outputs": [],
   "source": [
    "import pandas as pd"
   ]
  },
  {
   "cell_type": "code",
   "execution_count": 5,
   "metadata": {},
   "outputs": [],
   "source": [
    "df = pd.read_csv('ep60021426alldiagnostics.csv',index_col=False)"
   ]
  },
  {
   "cell_type": "code",
   "execution_count": 6,
   "metadata": {},
   "outputs": [
    {
     "data": {
      "text/html": [
       "<div>\n",
       "<style>\n",
       "    .dataframe thead tr:only-child th {\n",
       "        text-align: right;\n",
       "    }\n",
       "\n",
       "    .dataframe thead th {\n",
       "        text-align: left;\n",
       "    }\n",
       "\n",
       "    .dataframe tbody tr th {\n",
       "        vertical-align: top;\n",
       "    }\n",
       "</style>\n",
       "<table border=\"1\" class=\"dataframe\">\n",
       "  <thead>\n",
       "    <tr style=\"text-align: right;\">\n",
       "      <th></th>\n",
       "      <th>BJD - 2454833</th>\n",
       "      <th>Raw Flux</th>\n",
       "      <th>Corrected Flux</th>\n",
       "      <th>X-centroid</th>\n",
       "      <th>Y-centroid</th>\n",
       "      <th>arclength</th>\n",
       "      <th>Correction</th>\n",
       "      <th>Thrusters On</th>\n",
       "    </tr>\n",
       "  </thead>\n",
       "  <tbody>\n",
       "    <tr>\n",
       "      <th>0</th>\n",
       "      <td>1862.502368</td>\n",
       "      <td>0.995119</td>\n",
       "      <td>0.995985</td>\n",
       "      <td>25.135097</td>\n",
       "      <td>24.661074</td>\n",
       "      <td>2.327480</td>\n",
       "      <td>0.999130</td>\n",
       "      <td>1.0</td>\n",
       "    </tr>\n",
       "    <tr>\n",
       "      <th>1</th>\n",
       "      <td>1862.522801</td>\n",
       "      <td>0.997313</td>\n",
       "      <td>0.996767</td>\n",
       "      <td>25.289752</td>\n",
       "      <td>24.418689</td>\n",
       "      <td>1.175322</td>\n",
       "      <td>1.000548</td>\n",
       "      <td>1.0</td>\n",
       "    </tr>\n",
       "    <tr>\n",
       "      <th>2</th>\n",
       "      <td>1862.543235</td>\n",
       "      <td>0.996713</td>\n",
       "      <td>0.996136</td>\n",
       "      <td>25.288052</td>\n",
       "      <td>24.429406</td>\n",
       "      <td>1.214627</td>\n",
       "      <td>1.000580</td>\n",
       "      <td>0.0</td>\n",
       "    </tr>\n",
       "    <tr>\n",
       "      <th>3</th>\n",
       "      <td>1862.563668</td>\n",
       "      <td>0.996930</td>\n",
       "      <td>0.996277</td>\n",
       "      <td>25.275216</td>\n",
       "      <td>24.448405</td>\n",
       "      <td>1.306617</td>\n",
       "      <td>1.000656</td>\n",
       "      <td>0.0</td>\n",
       "    </tr>\n",
       "    <tr>\n",
       "      <th>4</th>\n",
       "      <td>1862.584102</td>\n",
       "      <td>0.996862</td>\n",
       "      <td>0.996228</td>\n",
       "      <td>25.253864</td>\n",
       "      <td>24.480184</td>\n",
       "      <td>1.460259</td>\n",
       "      <td>1.000636</td>\n",
       "      <td>0.0</td>\n",
       "    </tr>\n",
       "  </tbody>\n",
       "</table>\n",
       "</div>"
      ],
      "text/plain": [
       "   BJD - 2454833   Raw Flux   Corrected Flux   X-centroid   Y-centroid  \\\n",
       "0    1862.502368   0.995119         0.995985    25.135097    24.661074   \n",
       "1    1862.522801   0.997313         0.996767    25.289752    24.418689   \n",
       "2    1862.543235   0.996713         0.996136    25.288052    24.429406   \n",
       "3    1862.563668   0.996930         0.996277    25.275216    24.448405   \n",
       "4    1862.584102   0.996862         0.996228    25.253864    24.480184   \n",
       "\n",
       "    arclength   Correction   Thrusters On  \n",
       "0    2.327480     0.999130            1.0  \n",
       "1    1.175322     1.000548            1.0  \n",
       "2    1.214627     1.000580            0.0  \n",
       "3    1.306617     1.000656            0.0  \n",
       "4    1.460259     1.000636            0.0  "
      ]
     },
     "execution_count": 6,
     "metadata": {},
     "output_type": "execute_result"
    }
   ],
   "source": [
    "df.head()"
   ]
  },
  {
   "cell_type": "markdown",
   "metadata": {},
   "source": [
    "Let's use the provided $x-y$ centroids, but we could compute these on our own too."
   ]
  },
  {
   "cell_type": "code",
   "execution_count": 7,
   "metadata": {
    "collapsed": true
   },
   "outputs": [],
   "source": [
    "col = df[' X-centroid'].values\n",
    "col = col - np.mean(col)\n",
    "row = df[' Y-centroid'].values \n",
    "row = row - np.mean(row)"
   ]
  },
  {
   "cell_type": "code",
   "execution_count": 8,
   "metadata": {
    "collapsed": true
   },
   "outputs": [],
   "source": [
    "def _get_eigen_vectors(centroid_col, centroid_row):\n",
    "    centroids = np.array([centroid_col, centroid_row])\n",
    "    eig_val, eig_vec = np.linalg.eigh(np.cov(centroids))\n",
    "    return eig_val, eig_vec"
   ]
  },
  {
   "cell_type": "code",
   "execution_count": 9,
   "metadata": {
    "collapsed": true
   },
   "outputs": [],
   "source": [
    "def _rotate(eig_vec, centroid_col, centroid_row):\n",
    "    centroids = np.array([centroid_col, centroid_row])\n",
    "    return np.dot(eig_vec, centroids)"
   ]
  },
  {
   "cell_type": "code",
   "execution_count": 10,
   "metadata": {},
   "outputs": [],
   "source": [
    "eig_val, eig_vec = _get_eigen_vectors(col, row)"
   ]
  },
  {
   "cell_type": "code",
   "execution_count": null,
   "metadata": {
    "collapsed": true
   },
   "outputs": [],
   "source": [
    "v1, v2 = eig_vec"
   ]
  },
  {
   "cell_type": "markdown",
   "metadata": {},
   "source": [
    "The major axis is the last one."
   ]
  },
  {
   "cell_type": "code",
   "execution_count": null,
   "metadata": {},
   "outputs": [],
   "source": [
    "plt.figure(figsize=(5, 6))\n",
    "plt.plot(col*4.0, row*4.0, 'ko', ms=4)\n",
    "plt.plot(col*4.0, row*4.0, 'ro', ms=1)\n",
    "plt.xticks([-2, -1,0, 1, 2])\n",
    "plt.yticks([-2, -1,0, 1, 2])\n",
    "plt.xlabel('X position [arcseconds]')\n",
    "plt.ylabel('Y position [arcseconds]')\n",
    "plt.xlim(-2, 2)\n",
    "plt.ylim(-2, 2)\n",
    "plt.plot([0, v1[0]], [0, v1[1]], color='blue', lw=3)\n",
    "plt.plot([0, v2[0]], [0, v2[1]], color='blue', lw=3);"
   ]
  },
  {
   "cell_type": "markdown",
   "metadata": {},
   "source": [
    "Following the form of Figure 2 of Vanderburg & Johsnon 2014."
   ]
  },
  {
   "cell_type": "code",
   "execution_count": null,
   "metadata": {
    "collapsed": true
   },
   "outputs": [],
   "source": [
    "rot_colp, rot_rowp = _rotate(eig_vec, col, row)"
   ]
  },
  {
   "cell_type": "markdown",
   "metadata": {},
   "source": [
    "You can rotate into the new reference frame."
   ]
  },
  {
   "cell_type": "code",
   "execution_count": null,
   "metadata": {},
   "outputs": [],
   "source": [
    "plt.figure(figsize=(5, 6))\n",
    "plt.plot(rot_rowp*4.0, rot_colp*4.0, 'ko', ms=4)\n",
    "plt.plot(rot_rowp*4.0, rot_colp*4.0, 'ro', ms=1)\n",
    "plt.xticks([-2, -1,0, 1, 2])\n",
    "plt.yticks([-2, -1,0, 1, 2])\n",
    "plt.xlabel(\"X' position [arcseconds]\")\n",
    "plt.ylabel(\"Y' position [arcseconds]\")\n",
    "plt.xlim(-2, 2)\n",
    "plt.ylim(-2, 2)\n",
    "plt.plot([0, 1], [0, 0], color='blue')\n",
    "plt.plot([0, 0], [0, 1], color='blue');"
   ]
  },
  {
   "cell_type": "markdown",
   "metadata": {},
   "source": [
    "We need to calculate the arclength using:\n",
    "$$s= \\int_{x'_0}^{x'_1}\\sqrt{1+\\left( \\frac{dy'_p}{dx'}\\right)^2} dx'$$\n",
    "\n",
    "> where $x^\\prime_0$ is the transformed $x$ coordinate of the point with the smallest $x^\\prime$ position, and $y^\\prime_p$ is the best--fit polynomial function."
   ]
  },
  {
   "cell_type": "code",
   "execution_count": null,
   "metadata": {
    "collapsed": true
   },
   "outputs": [],
   "source": [
    "z = np.polyfit(rot_rowp, rot_colp, 5)\n",
    "p5 = np.poly1d(z)\n",
    "p5_deriv = p5.deriv()"
   ]
  },
  {
   "cell_type": "code",
   "execution_count": null,
   "metadata": {
    "collapsed": true
   },
   "outputs": [],
   "source": [
    "x0_prime = np.min(rot_rowp)\n",
    "xmax_prime = np.max(rot_rowp)"
   ]
  },
  {
   "cell_type": "code",
   "execution_count": null,
   "metadata": {},
   "outputs": [],
   "source": [
    "x_dense = np.linspace(x0_prime, xmax_prime, 2000)"
   ]
  },
  {
   "cell_type": "code",
   "execution_count": null,
   "metadata": {},
   "outputs": [],
   "source": [
    "plt.plot(rot_rowp, rot_colp, '.')\n",
    "plt.plot(x_dense, p5(x_dense));"
   ]
  },
  {
   "cell_type": "code",
   "execution_count": null,
   "metadata": {
    "collapsed": true
   },
   "outputs": [],
   "source": [
    "@np.vectorize\n",
    "def arclength(x):\n",
    "    '''Input x1_prime, get out arclength'''\n",
    "    gi = x_dense <x\n",
    "    s_integrand = np.sqrt(1 + p5_deriv(x_dense[gi]) ** 2)\n",
    "    s = np.trapz(s_integrand, x=x_dense[gi])\n",
    "    return s"
   ]
  },
  {
   "cell_type": "code",
   "execution_count": null,
   "metadata": {},
   "outputs": [],
   "source": [
    "plt.plot(df[' arclength'], arclength(rot_rowp)*4.0, '.')\n",
    "plt.plot([0, 4], [0, 4], 'k--');"
   ]
  },
  {
   "cell_type": "markdown",
   "metadata": {},
   "source": [
    "It works!"
   ]
  },
  {
   "cell_type": "markdown",
   "metadata": {},
   "source": [
    "Now we apply a high-pass filter.  We follow the original paper by using BSplines with 1.5 day breakpoints."
   ]
  },
  {
   "cell_type": "code",
   "execution_count": null,
   "metadata": {
    "collapsed": true
   },
   "outputs": [],
   "source": [
    "from scipy.interpolate import BSpline\n",
    "from scipy import interpolate"
   ]
  },
  {
   "cell_type": "code",
   "execution_count": null,
   "metadata": {
    "collapsed": true
   },
   "outputs": [],
   "source": [
    "tt, ff = df['BJD - 2454833'].values, df[' Raw Flux'].values\n",
    "tt = tt - tt[0]"
   ]
  },
  {
   "cell_type": "code",
   "execution_count": null,
   "metadata": {},
   "outputs": [],
   "source": [
    "knots = np.arange(0, tt[-1], 1.5)"
   ]
  },
  {
   "cell_type": "code",
   "execution_count": null,
   "metadata": {},
   "outputs": [],
   "source": [
    "t,c,k = interpolate.splrep(tt, ff, s=0, task=-1, t=knots[1:])"
   ]
  },
  {
   "cell_type": "code",
   "execution_count": null,
   "metadata": {},
   "outputs": [],
   "source": [
    "bspl = BSpline(t,c,k)\n",
    "\n",
    "plt.plot(tt, ff, '.')\n",
    "plt.plot(tt, bspl(tt))"
   ]
  },
  {
   "cell_type": "markdown",
   "metadata": {},
   "source": [
    "Spline fit looks good, so normalize the flux by the long-term trend.  \n",
    "Plot the normalized flux versus arclength to see the position-dependent flux."
   ]
  },
  {
   "cell_type": "code",
   "execution_count": null,
   "metadata": {},
   "outputs": [],
   "source": [
    "norm_ff = ff/bspl(tt)"
   ]
  },
  {
   "cell_type": "markdown",
   "metadata": {},
   "source": [
    "Mask the data by keeping only the good samples."
   ]
  },
  {
   "cell_type": "code",
   "execution_count": null,
   "metadata": {
    "collapsed": true
   },
   "outputs": [],
   "source": [
    "bi = df[' Thrusters On'].values == 1.0\n",
    "gi = df[' Thrusters On'].values == 0.0\n",
    "al, gff = arclength(rot_rowp[gi])*4.0, norm_ff[gi]"
   ]
  },
  {
   "cell_type": "code",
   "execution_count": null,
   "metadata": {
    "collapsed": true
   },
   "outputs": [],
   "source": [
    "sorted_inds = np.argsort(al)"
   ]
  },
  {
   "cell_type": "markdown",
   "metadata": {},
   "source": [
    "We will follow the paper by interpolating 15 bins of means.  This is a piecewise linear fit."
   ]
  },
  {
   "cell_type": "code",
   "execution_count": null,
   "metadata": {},
   "outputs": [],
   "source": [
    "knots = np.array([np.min(al)]+ \n",
    "                 [np.median(splt) for splt in np.array_split(al[sorted_inds], 15)]+\n",
    "                 [np.max(al)])"
   ]
  },
  {
   "cell_type": "code",
   "execution_count": null,
   "metadata": {},
   "outputs": [],
   "source": [
    "bin_means = np.array([gff[sorted_inds][0]]+\n",
    "                     [np.mean(splt) for splt in np.array_split(gff[sorted_inds], 15)]+\n",
    "                     [gff[sorted_inds][-1]])"
   ]
  },
  {
   "cell_type": "code",
   "execution_count": null,
   "metadata": {
    "collapsed": true
   },
   "outputs": [],
   "source": [
    "zz = np.polyfit(al, gff,6)\n",
    "sff = np.poly1d(zz)\n",
    "al_dense = np.linspace(0, 4, 1000)\n",
    "interp_func = interpolate.interp1d(knots, bin_means)"
   ]
  },
  {
   "cell_type": "code",
   "execution_count": null,
   "metadata": {},
   "outputs": [],
   "source": [
    "plt.figure(figsize=(5, 6))\n",
    "plt.plot(arclength(rot_rowp)*4.0, norm_ff, 'ko', ms=4)\n",
    "plt.plot(arclength(rot_rowp)*4.0, norm_ff, 'o', color='#3498db', ms=3)\n",
    "plt.plot(arclength(rot_rowp[bi])*4.0, norm_ff[bi], 'o', color='r', ms=3)\n",
    "#plt.plot(al_dense, sff(al_dense), '-', color='#e67e22')\n",
    "#plt.plot(knots, bin_means, '-', color='#e67e22')\n",
    "plt.plot(np.sort(al), interp_func(np.sort(al)), '-', color='#e67e22')\n",
    "\n",
    "plt.xticks([0, 1,2, 3, 4])\n",
    "plt.xlabel('Arclength [arcseconds]')\n",
    "plt.ylabel('Relative Brightness')\n",
    "plt.title('EPIC 60021426, Kp =10.3')\n",
    "plt.xlim(0,4)\n",
    "plt.ylim(0.997, 1.002);"
   ]
  },
  {
   "cell_type": "markdown",
   "metadata": {},
   "source": [
    "Following Figure 4 of Vanderburg & Johnson 2014."
   ]
  },
  {
   "cell_type": "markdown",
   "metadata": {},
   "source": [
    "Apply the Self Flat Field (SFF) correction:"
   ]
  },
  {
   "cell_type": "code",
   "execution_count": null,
   "metadata": {
    "collapsed": true
   },
   "outputs": [],
   "source": [
    "corr_flux = gff / interp_func(al)"
   ]
  },
  {
   "cell_type": "code",
   "execution_count": null,
   "metadata": {},
   "outputs": [],
   "source": [
    "plt.figure(figsize=(10,6))\n",
    "\n",
    "dy = 0.004\n",
    "plt.plot(df['BJD - 2454833'], df[' Raw Flux']+dy, 'ko', ms=4)\n",
    "plt.plot(df['BJD - 2454833'], df[' Raw Flux']+dy, 'o', color='#3498db', ms=3)\n",
    "plt.plot(df['BJD - 2454833'][bi], df[' Raw Flux'][bi]+dy, 'o', color='r', ms=3)\n",
    "\n",
    "\n",
    "\n",
    "plt.plot(df['BJD - 2454833'][gi], corr_flux*bspl(tt[gi]), 'o', color='k', ms = 4)\n",
    "plt.plot(df['BJD - 2454833'][gi], corr_flux*bspl(tt[gi]), 'o', color='#e67e22', ms = 3)\n",
    "\n",
    "#plt.plot(df['BJD - 2454833'][gi], df[' Corrected Flux'][gi], 'o', color='#00ff00', ms = 4)\n",
    "\n",
    "plt.xlabel('BJD - 2454833')\n",
    "plt.ylabel('Relative Brightness')\n",
    "\n",
    "plt.xlim(1862, 1870)\n",
    "plt.ylim(0.994, 1.008);"
   ]
  },
  {
   "cell_type": "markdown",
   "metadata": {},
   "source": [
    "Following Figure 5 of Vanderburg & Johnson 2015."
   ]
  },
  {
   "cell_type": "markdown",
   "metadata": {},
   "source": [
    "Let's compute the CDPP:"
   ]
  },
  {
   "cell_type": "code",
   "execution_count": null,
   "metadata": {
    "collapsed": true
   },
   "outputs": [],
   "source": [
    "from pyke import LightCurve"
   ]
  },
  {
   "cell_type": "code",
   "execution_count": null,
   "metadata": {},
   "outputs": [],
   "source": [
    "#lc = LightCurve(time=df['BJD - 2454833'][gi], flux=corr_flux*bspl(tt[gi]))\n",
    "lc = LightCurve(time=df['BJD - 2454833'][gi], flux=df[' Corrected Flux'][gi])"
   ]
  },
  {
   "cell_type": "code",
   "execution_count": null,
   "metadata": {},
   "outputs": [],
   "source": [
    "lc.cdpp(savgol_window=201)*1.4"
   ]
  },
  {
   "cell_type": "markdown",
   "metadata": {},
   "source": [
    "The end."
   ]
  }
 ],
 "metadata": {
  "kernelspec": {
   "display_name": "Python 3",
   "language": "python",
   "name": "python3"
  },
  "language_info": {
   "codemirror_mode": {
    "name": "ipython",
    "version": 3
   },
   "file_extension": ".py",
   "mimetype": "text/x-python",
   "name": "python",
   "nbconvert_exporter": "python",
   "pygments_lexer": "ipython3",
   "version": "3.6.3"
  }
 },
 "nbformat": 4,
 "nbformat_minor": 2
}
